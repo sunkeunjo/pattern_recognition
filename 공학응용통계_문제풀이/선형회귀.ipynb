{
 "cells": [
  {
   "cell_type": "code",
   "execution_count": 2,
   "metadata": {},
   "outputs": [],
   "source": [
    "import pandas as pd \n",
    "import numpy as np\n",
    "from numpy import linalg \n",
    "#시각화패키지\n",
    "import matplotlib.pyplot as plt \n",
    "# 통계 패키지\n",
    "import statsmodels.api as sm \n",
    "\n",
    "# 한글 시각화 \n",
    "import matplotlib \n",
    "from matplotlib import font_manager,rc\n",
    "font_name=font_manager.FontProperties(fname=\"c:/Windows/Fonts/malgun.ttf\").get_name()\n",
    "rc(\"font\",family=font_name)\n",
    "matplotlib.rcParams['axes.unicode_minus']=False"
   ]
  },
  {
   "cell_type": "markdown",
   "metadata": {},
   "source": [
    "## 예 8-1 "
   ]
  },
  {
   "cell_type": "code",
   "execution_count": 12,
   "metadata": {},
   "outputs": [
    {
     "name": "stdout",
     "output_type": "stream",
     "text": [
      "(8,)\n",
      "(8,)\n"
     ]
    }
   ],
   "source": [
    "# tv 광고 지출액(X)와 판매량 Y\n",
    "Y=np.array([1685,1201,1474,1389,1295,1564,1496,1363])\n",
    "X=np.array([150,50,50,100,50,100,100,50])\n",
    "print(np.shape(X))# COLUMN VECTOR\n",
    "print(np.shape(Y))# COLUMN VECTOR\n",
    "X_2=X**2\n",
    "XY=X*Y"
   ]
  },
  {
   "cell_type": "markdown",
   "metadata": {},
   "source": [
    "위의 식을 통해서 Beta1과 Beta0의 값을 계산해봅시다."
   ]
  },
  {
   "cell_type": "code",
   "execution_count": 23,
   "metadata": {
    "scrolled": true
   },
   "outputs": [
    {
     "data": {
      "text/html": [
       "<div>\n",
       "<style scoped>\n",
       "    .dataframe tbody tr th:only-of-type {\n",
       "        vertical-align: middle;\n",
       "    }\n",
       "\n",
       "    .dataframe tbody tr th {\n",
       "        vertical-align: top;\n",
       "    }\n",
       "\n",
       "    .dataframe thead th {\n",
       "        text-align: right;\n",
       "    }\n",
       "</style>\n",
       "<table border=\"1\" class=\"dataframe\">\n",
       "  <thead>\n",
       "    <tr style=\"text-align: right;\">\n",
       "      <th></th>\n",
       "      <th>x</th>\n",
       "      <th>y</th>\n",
       "      <th>x_xbar</th>\n",
       "      <th>y_ybar</th>\n",
       "    </tr>\n",
       "  </thead>\n",
       "  <tbody>\n",
       "    <tr>\n",
       "      <th>0</th>\n",
       "      <td>150</td>\n",
       "      <td>1685</td>\n",
       "      <td>68.75</td>\n",
       "      <td>251.625</td>\n",
       "    </tr>\n",
       "    <tr>\n",
       "      <th>1</th>\n",
       "      <td>50</td>\n",
       "      <td>1201</td>\n",
       "      <td>-31.25</td>\n",
       "      <td>-232.375</td>\n",
       "    </tr>\n",
       "    <tr>\n",
       "      <th>2</th>\n",
       "      <td>50</td>\n",
       "      <td>1474</td>\n",
       "      <td>-31.25</td>\n",
       "      <td>40.625</td>\n",
       "    </tr>\n",
       "    <tr>\n",
       "      <th>3</th>\n",
       "      <td>100</td>\n",
       "      <td>1389</td>\n",
       "      <td>18.75</td>\n",
       "      <td>-44.375</td>\n",
       "    </tr>\n",
       "    <tr>\n",
       "      <th>4</th>\n",
       "      <td>50</td>\n",
       "      <td>1295</td>\n",
       "      <td>-31.25</td>\n",
       "      <td>-138.375</td>\n",
       "    </tr>\n",
       "    <tr>\n",
       "      <th>5</th>\n",
       "      <td>100</td>\n",
       "      <td>1564</td>\n",
       "      <td>18.75</td>\n",
       "      <td>130.625</td>\n",
       "    </tr>\n",
       "    <tr>\n",
       "      <th>6</th>\n",
       "      <td>100</td>\n",
       "      <td>1496</td>\n",
       "      <td>18.75</td>\n",
       "      <td>62.625</td>\n",
       "    </tr>\n",
       "    <tr>\n",
       "      <th>7</th>\n",
       "      <td>50</td>\n",
       "      <td>1363</td>\n",
       "      <td>-31.25</td>\n",
       "      <td>-70.375</td>\n",
       "    </tr>\n",
       "  </tbody>\n",
       "</table>\n",
       "</div>"
      ],
      "text/plain": [
       "     x     y  x_xbar   y_ybar\n",
       "0  150  1685   68.75  251.625\n",
       "1   50  1201  -31.25 -232.375\n",
       "2   50  1474  -31.25   40.625\n",
       "3  100  1389   18.75  -44.375\n",
       "4   50  1295  -31.25 -138.375\n",
       "5  100  1564   18.75  130.625\n",
       "6  100  1496   18.75   62.625\n",
       "7   50  1363  -31.25  -70.375"
      ]
     },
     "execution_count": 23,
     "metadata": {},
     "output_type": "execute_result"
    }
   ],
   "source": [
    "# beta1 \n",
    "x_bar=np.sum(X)/len(X)\n",
    "y_bar=np.sum(Y)/len(Y)\n",
    "df=pd.DataFrame(columns=['x','y','x_xbar','y_ybar'])\n",
    "df['x']=X\n",
    "df['y']=Y\n",
    "df['x_xbar']=df['x']-x_bar\n",
    "df['y_ybar']=df['y']-y_bar\n",
    "df"
   ]
  },
  {
   "cell_type": "code",
   "execution_count": 34,
   "metadata": {},
   "outputs": [],
   "source": [
    "numerator=np.sum(df['x_xbar'].values*df['y_ybar'].values)\n",
    "denominator=np.sum(df['x_xbar'].values**2)"
   ]
  },
  {
   "cell_type": "code",
   "execution_count": 35,
   "metadata": {
    "scrolled": true
   },
   "outputs": [
    {
     "name": "stdout",
     "output_type": "stream",
     "text": [
      "3.365806451612903\n"
     ]
    }
   ],
   "source": [
    "beta1=numerator/denominator\n",
    "print(beta1)"
   ]
  },
  {
   "cell_type": "code",
   "execution_count": 36,
   "metadata": {},
   "outputs": [
    {
     "name": "stdout",
     "output_type": "stream",
     "text": [
      "1159.9032258064517\n"
     ]
    }
   ],
   "source": [
    "# beta0= y_bar-beta1xbar\n",
    "beta0=y_bar-beta1*x_bar\n",
    "print(beta0)"
   ]
  },
  {
   "cell_type": "code",
   "execution_count": 38,
   "metadata": {},
   "outputs": [
    {
     "name": "stdout",
     "output_type": "stream",
     "text": [
      "y_hat=1159.903226+3.365806x\n"
     ]
    }
   ],
   "source": [
    "# 그러므로 우리의 추정식은 다음과 같다 \n",
    "print(\"y_hat={:.6f}+{:.6f}x\".format(beta0,beta1))"
   ]
  },
  {
   "cell_type": "code",
   "execution_count": 40,
   "metadata": {},
   "outputs": [
    {
     "name": "stderr",
     "output_type": "stream",
     "text": [
      "C:\\Users\\sunkeun_jo\\anaconda3\\lib\\site-packages\\scipy\\stats\\stats.py:1535: UserWarning: kurtosistest only valid for n>=20 ... continuing anyway, n=8\n",
      "  \"anyway, n=%i\" % int(n))\n"
     ]
    },
    {
     "data": {
      "text/html": [
       "<table class=\"simpletable\">\n",
       "<caption>OLS Regression Results</caption>\n",
       "<tr>\n",
       "  <th>Dep. Variable:</th>            <td>y</td>        <th>  R-squared:         </th> <td>   0.661</td>\n",
       "</tr>\n",
       "<tr>\n",
       "  <th>Model:</th>                   <td>OLS</td>       <th>  Adj. R-squared:    </th> <td>   0.605</td>\n",
       "</tr>\n",
       "<tr>\n",
       "  <th>Method:</th>             <td>Least Squares</td>  <th>  F-statistic:       </th> <td>   11.70</td>\n",
       "</tr>\n",
       "<tr>\n",
       "  <th>Date:</th>             <td>Mon, 20 Apr 2020</td> <th>  Prob (F-statistic):</th>  <td>0.0141</td> \n",
       "</tr>\n",
       "<tr>\n",
       "  <th>Time:</th>                 <td>11:45:24</td>     <th>  Log-Likelihood:    </th> <td> -46.786</td>\n",
       "</tr>\n",
       "<tr>\n",
       "  <th>No. Observations:</th>      <td>     8</td>      <th>  AIC:               </th> <td>   97.57</td>\n",
       "</tr>\n",
       "<tr>\n",
       "  <th>Df Residuals:</th>          <td>     6</td>      <th>  BIC:               </th> <td>   97.73</td>\n",
       "</tr>\n",
       "<tr>\n",
       "  <th>Df Model:</th>              <td>     1</td>      <th>                     </th>     <td> </td>   \n",
       "</tr>\n",
       "<tr>\n",
       "  <th>Covariance Type:</th>      <td>nonrobust</td>    <th>                     </th>     <td> </td>   \n",
       "</tr>\n",
       "</table>\n",
       "<table class=\"simpletable\">\n",
       "<tr>\n",
       "    <td></td>       <th>coef</th>     <th>std err</th>      <th>t</th>      <th>P>|t|</th>  <th>[0.025</th>    <th>0.975]</th>  \n",
       "</tr>\n",
       "<tr>\n",
       "  <th>const</th> <td> 1159.9032</td> <td>   86.968</td> <td>   13.337</td> <td> 0.000</td> <td>  947.101</td> <td> 1372.706</td>\n",
       "</tr>\n",
       "<tr>\n",
       "  <th>x1</th>    <td>    3.3658</td> <td>    0.984</td> <td>    3.421</td> <td> 0.014</td> <td>    0.958</td> <td>    5.773</td>\n",
       "</tr>\n",
       "</table>\n",
       "<table class=\"simpletable\">\n",
       "<tr>\n",
       "  <th>Omnibus:</th>       <td> 0.003</td> <th>  Durbin-Watson:     </th> <td>   3.233</td>\n",
       "</tr>\n",
       "<tr>\n",
       "  <th>Prob(Omnibus):</th> <td> 0.999</td> <th>  Jarque-Bera (JB):  </th> <td>   0.214</td>\n",
       "</tr>\n",
       "<tr>\n",
       "  <th>Skew:</th>          <td> 0.026</td> <th>  Prob(JB):          </th> <td>   0.898</td>\n",
       "</tr>\n",
       "<tr>\n",
       "  <th>Kurtosis:</th>      <td> 2.200</td> <th>  Cond. No.          </th> <td>    225.</td>\n",
       "</tr>\n",
       "</table><br/><br/>Warnings:<br/>[1] Standard Errors assume that the covariance matrix of the errors is correctly specified."
      ],
      "text/plain": [
       "<class 'statsmodels.iolib.summary.Summary'>\n",
       "\"\"\"\n",
       "                            OLS Regression Results                            \n",
       "==============================================================================\n",
       "Dep. Variable:                      y   R-squared:                       0.661\n",
       "Model:                            OLS   Adj. R-squared:                  0.605\n",
       "Method:                 Least Squares   F-statistic:                     11.70\n",
       "Date:                Mon, 20 Apr 2020   Prob (F-statistic):             0.0141\n",
       "Time:                        11:45:24   Log-Likelihood:                -46.786\n",
       "No. Observations:                   8   AIC:                             97.57\n",
       "Df Residuals:                       6   BIC:                             97.73\n",
       "Df Model:                           1                                         \n",
       "Covariance Type:            nonrobust                                         \n",
       "==============================================================================\n",
       "                 coef    std err          t      P>|t|      [0.025      0.975]\n",
       "------------------------------------------------------------------------------\n",
       "const       1159.9032     86.968     13.337      0.000     947.101    1372.706\n",
       "x1             3.3658      0.984      3.421      0.014       0.958       5.773\n",
       "==============================================================================\n",
       "Omnibus:                        0.003   Durbin-Watson:                   3.233\n",
       "Prob(Omnibus):                  0.999   Jarque-Bera (JB):                0.214\n",
       "Skew:                           0.026   Prob(JB):                        0.898\n",
       "Kurtosis:                       2.200   Cond. No.                         225.\n",
       "==============================================================================\n",
       "\n",
       "Warnings:\n",
       "[1] Standard Errors assume that the covariance matrix of the errors is correctly specified.\n",
       "\"\"\""
      ]
     },
     "execution_count": 40,
     "metadata": {},
     "output_type": "execute_result"
    }
   ],
   "source": [
    "# 패키지를 넣어서 해보겠습니다.\n",
    "X_data=sm.add_constant(X,has_constant=\"add\")\n",
    "model=sm.OLS(Y,X_data)\n",
    "fitted_model=model.fit()\n",
    "fitted_model.summary()"
   ]
  },
  {
   "cell_type": "code",
   "execution_count": 45,
   "metadata": {
    "scrolled": true
   },
   "outputs": [
    {
     "data": {
      "image/png": "[encoded data removed]",
      "text/plain": [
       "<Figure size 432x288 with 1 Axes>"
      ]
     },
     "metadata": {
      "needs_background": "light"
     },
     "output_type": "display_data"
    }
   ],
   "source": [
    "# 추정 회귀식을 이제 시각화 해봅시다\n",
    "plt.scatter(df['x'],df['y'])\n",
    "plt.plot(df['x'],fitted_model.predict(X_data),color='r',label=\"predicted\")\n",
    "plt.ylabel(\"판매량\",rotation=0)\n",
    "plt.xlabel(\"광고지출액\")\n",
    "plt.legend()\n",
    "plt.show()"
   ]
  },
  {
   "cell_type": "markdown",
   "metadata": {},
   "source": [
    "# 잔차를 구해봅시다."
   ]
  },
  {
   "cell_type": "code",
   "execution_count": 50,
   "metadata": {},
   "outputs": [
    {
     "data": {
      "text/html": [
       "<div>\n",
       "<style scoped>\n",
       "    .dataframe tbody tr th:only-of-type {\n",
       "        vertical-align: middle;\n",
       "    }\n",
       "\n",
       "    .dataframe tbody tr th {\n",
       "        vertical-align: top;\n",
       "    }\n",
       "\n",
       "    .dataframe thead th {\n",
       "        text-align: right;\n",
       "    }\n",
       "</style>\n",
       "<table border=\"1\" class=\"dataframe\">\n",
       "  <thead>\n",
       "    <tr style=\"text-align: right;\">\n",
       "      <th></th>\n",
       "      <th>x</th>\n",
       "      <th>y</th>\n",
       "      <th>x_xbar</th>\n",
       "      <th>y_ybar</th>\n",
       "      <th>predicted</th>\n",
       "      <th>잔차</th>\n",
       "      <th>잔차_2</th>\n",
       "    </tr>\n",
       "  </thead>\n",
       "  <tbody>\n",
       "    <tr>\n",
       "      <th>0</th>\n",
       "      <td>150</td>\n",
       "      <td>1685</td>\n",
       "      <td>68.75</td>\n",
       "      <td>251.625</td>\n",
       "      <td>1664.774194</td>\n",
       "      <td>20.225806</td>\n",
       "      <td>409.083247</td>\n",
       "    </tr>\n",
       "    <tr>\n",
       "      <th>1</th>\n",
       "      <td>50</td>\n",
       "      <td>1201</td>\n",
       "      <td>-31.25</td>\n",
       "      <td>-232.375</td>\n",
       "      <td>1328.193548</td>\n",
       "      <td>-127.193548</td>\n",
       "      <td>16178.198751</td>\n",
       "    </tr>\n",
       "    <tr>\n",
       "      <th>2</th>\n",
       "      <td>50</td>\n",
       "      <td>1474</td>\n",
       "      <td>-31.25</td>\n",
       "      <td>40.625</td>\n",
       "      <td>1328.193548</td>\n",
       "      <td>145.806452</td>\n",
       "      <td>21259.521332</td>\n",
       "    </tr>\n",
       "    <tr>\n",
       "      <th>3</th>\n",
       "      <td>100</td>\n",
       "      <td>1389</td>\n",
       "      <td>18.75</td>\n",
       "      <td>-44.375</td>\n",
       "      <td>1496.483871</td>\n",
       "      <td>-107.483871</td>\n",
       "      <td>11552.782518</td>\n",
       "    </tr>\n",
       "    <tr>\n",
       "      <th>4</th>\n",
       "      <td>50</td>\n",
       "      <td>1295</td>\n",
       "      <td>-31.25</td>\n",
       "      <td>-138.375</td>\n",
       "      <td>1328.193548</td>\n",
       "      <td>-33.193548</td>\n",
       "      <td>1101.811655</td>\n",
       "    </tr>\n",
       "  </tbody>\n",
       "</table>\n",
       "</div>"
      ],
      "text/plain": [
       "     x     y  x_xbar   y_ybar    predicted          잔차          잔차_2\n",
       "0  150  1685   68.75  251.625  1664.774194   20.225806    409.083247\n",
       "1   50  1201  -31.25 -232.375  1328.193548 -127.193548  16178.198751\n",
       "2   50  1474  -31.25   40.625  1328.193548  145.806452  21259.521332\n",
       "3  100  1389   18.75  -44.375  1496.483871 -107.483871  11552.782518\n",
       "4   50  1295  -31.25 -138.375  1328.193548  -33.193548   1101.811655"
      ]
     },
     "execution_count": 50,
     "metadata": {},
     "output_type": "execute_result"
    }
   ],
   "source": [
    "df['predicted']=df['x'].apply(lambda x: x*beta1+beta0)\n",
    "df['잔차']=df['y']-df['predicted']\n",
    "df['잔차_2']=df['잔차'].values**2\n",
    "df.head()"
   ]
  },
  {
   "cell_type": "code",
   "execution_count": 54,
   "metadata": {},
   "outputs": [
    {
     "data": {
      "text/plain": [
       "56271.548387096766"
      ]
     },
     "execution_count": 54,
     "metadata": {},
     "output_type": "execute_result"
    }
   ],
   "source": [
    "# 잔차의 합 \n",
    "np.sum(df['잔차'].values)\n",
    "# 잔차 제곱의 합\n",
    "np.sum(df['잔차_2'].values)"
   ]
  },
  {
   "cell_type": "code",
   "execution_count": 55,
   "metadata": {},
   "outputs": [
    {
     "name": "stdout",
     "output_type": "stream",
     "text": [
      "9378.591397849461\n"
     ]
    }
   ],
   "source": [
    "#추정치 s_2의 값 SSE/n-2\n",
    "print(np.sum(df['잔차_2'].values)/(df.shape[0]-2))"
   ]
  },
  {
   "cell_type": "code",
   "execution_count": 56,
   "metadata": {},
   "outputs": [
    {
     "name": "stderr",
     "output_type": "stream",
     "text": [
      "C:\\Users\\sunkeun_jo\\anaconda3\\lib\\site-packages\\scipy\\stats\\stats.py:1535: UserWarning: kurtosistest only valid for n>=20 ... continuing anyway, n=8\n",
      "  \"anyway, n=%i\" % int(n))\n"
     ]
    },
    {
     "data": {
      "text/html": [
       "<table class=\"simpletable\">\n",
       "<caption>OLS Regression Results</caption>\n",
       "<tr>\n",
       "  <th>Dep. Variable:</th>            <td>y</td>        <th>  R-squared:         </th> <td>   0.661</td>\n",
       "</tr>\n",
       "<tr>\n",
       "  <th>Model:</th>                   <td>OLS</td>       <th>  Adj. R-squared:    </th> <td>   0.605</td>\n",
       "</tr>\n",
       "<tr>\n",
       "  <th>Method:</th>             <td>Least Squares</td>  <th>  F-statistic:       </th> <td>   11.70</td>\n",
       "</tr>\n",
       "<tr>\n",
       "  <th>Date:</th>             <td>Mon, 20 Apr 2020</td> <th>  Prob (F-statistic):</th>  <td>0.0141</td> \n",
       "</tr>\n",
       "<tr>\n",
       "  <th>Time:</th>                 <td>11:52:09</td>     <th>  Log-Likelihood:    </th> <td> -46.786</td>\n",
       "</tr>\n",
       "<tr>\n",
       "  <th>No. Observations:</th>      <td>     8</td>      <th>  AIC:               </th> <td>   97.57</td>\n",
       "</tr>\n",
       "<tr>\n",
       "  <th>Df Residuals:</th>          <td>     6</td>      <th>  BIC:               </th> <td>   97.73</td>\n",
       "</tr>\n",
       "<tr>\n",
       "  <th>Df Model:</th>              <td>     1</td>      <th>                     </th>     <td> </td>   \n",
       "</tr>\n",
       "<tr>\n",
       "  <th>Covariance Type:</th>      <td>nonrobust</td>    <th>                     </th>     <td> </td>   \n",
       "</tr>\n",
       "</table>\n",
       "<table class=\"simpletable\">\n",
       "<tr>\n",
       "    <td></td>       <th>coef</th>     <th>std err</th>      <th>t</th>      <th>P>|t|</th>  <th>[0.025</th>    <th>0.975]</th>  \n",
       "</tr>\n",
       "<tr>\n",
       "  <th>const</th> <td> 1159.9032</td> <td>   86.968</td> <td>   13.337</td> <td> 0.000</td> <td>  947.101</td> <td> 1372.706</td>\n",
       "</tr>\n",
       "<tr>\n",
       "  <th>x1</th>    <td>    3.3658</td> <td>    0.984</td> <td>    3.421</td> <td> 0.014</td> <td>    0.958</td> <td>    5.773</td>\n",
       "</tr>\n",
       "</table>\n",
       "<table class=\"simpletable\">\n",
       "<tr>\n",
       "  <th>Omnibus:</th>       <td> 0.003</td> <th>  Durbin-Watson:     </th> <td>   3.233</td>\n",
       "</tr>\n",
       "<tr>\n",
       "  <th>Prob(Omnibus):</th> <td> 0.999</td> <th>  Jarque-Bera (JB):  </th> <td>   0.214</td>\n",
       "</tr>\n",
       "<tr>\n",
       "  <th>Skew:</th>          <td> 0.026</td> <th>  Prob(JB):          </th> <td>   0.898</td>\n",
       "</tr>\n",
       "<tr>\n",
       "  <th>Kurtosis:</th>      <td> 2.200</td> <th>  Cond. No.          </th> <td>    225.</td>\n",
       "</tr>\n",
       "</table><br/><br/>Warnings:<br/>[1] Standard Errors assume that the covariance matrix of the errors is correctly specified."
      ],
      "text/plain": [
       "<class 'statsmodels.iolib.summary.Summary'>\n",
       "\"\"\"\n",
       "                            OLS Regression Results                            \n",
       "==============================================================================\n",
       "Dep. Variable:                      y   R-squared:                       0.661\n",
       "Model:                            OLS   Adj. R-squared:                  0.605\n",
       "Method:                 Least Squares   F-statistic:                     11.70\n",
       "Date:                Mon, 20 Apr 2020   Prob (F-statistic):             0.0141\n",
       "Time:                        11:52:09   Log-Likelihood:                -46.786\n",
       "No. Observations:                   8   AIC:                             97.57\n",
       "Df Residuals:                       6   BIC:                             97.73\n",
       "Df Model:                           1                                         \n",
       "Covariance Type:            nonrobust                                         \n",
       "==============================================================================\n",
       "                 coef    std err          t      P>|t|      [0.025      0.975]\n",
       "------------------------------------------------------------------------------\n",
       "const       1159.9032     86.968     13.337      0.000     947.101    1372.706\n",
       "x1             3.3658      0.984      3.421      0.014       0.958       5.773\n",
       "==============================================================================\n",
       "Omnibus:                        0.003   Durbin-Watson:                   3.233\n",
       "Prob(Omnibus):                  0.999   Jarque-Bera (JB):                0.214\n",
       "Skew:                           0.026   Prob(JB):                        0.898\n",
       "Kurtosis:                       2.200   Cond. No.                         225.\n",
       "==============================================================================\n",
       "\n",
       "Warnings:\n",
       "[1] Standard Errors assume that the covariance matrix of the errors is correctly specified.\n",
       "\"\"\""
      ]
     },
     "execution_count": 56,
     "metadata": {},
     "output_type": "execute_result"
    }
   ],
   "source": [
    "fitted_model.summary()"
   ]
  },
  {
   "cell_type": "markdown",
   "metadata": {},
   "source": [
    "# 다중 선형회귀 "
   ]
  },
  {
   "cell_type": "code",
   "execution_count": 87,
   "metadata": {},
   "outputs": [
    {
     "data": {
      "text/html": [
       "<div>\n",
       "<style scoped>\n",
       "    .dataframe tbody tr th:only-of-type {\n",
       "        vertical-align: middle;\n",
       "    }\n",
       "\n",
       "    .dataframe tbody tr th {\n",
       "        vertical-align: top;\n",
       "    }\n",
       "\n",
       "    .dataframe thead th {\n",
       "        text-align: right;\n",
       "    }\n",
       "</style>\n",
       "<table border=\"1\" class=\"dataframe\">\n",
       "  <thead>\n",
       "    <tr style=\"text-align: right;\">\n",
       "      <th></th>\n",
       "      <th>ph</th>\n",
       "      <th>탁도</th>\n",
       "      <th>염소량</th>\n",
       "      <th>약품농도</th>\n",
       "      <th>부식도</th>\n",
       "    </tr>\n",
       "  </thead>\n",
       "  <tbody>\n",
       "    <tr>\n",
       "      <th>0</th>\n",
       "      <td>7.93</td>\n",
       "      <td>11.9</td>\n",
       "      <td>19.0</td>\n",
       "      <td>59.8</td>\n",
       "      <td>2.2</td>\n",
       "    </tr>\n",
       "    <tr>\n",
       "      <th>1</th>\n",
       "      <td>8.07</td>\n",
       "      <td>12.9</td>\n",
       "      <td>26.6</td>\n",
       "      <td>29.8</td>\n",
       "      <td>10.3</td>\n",
       "    </tr>\n",
       "    <tr>\n",
       "      <th>2</th>\n",
       "      <td>7.85</td>\n",
       "      <td>11.0</td>\n",
       "      <td>17.0</td>\n",
       "      <td>26.3</td>\n",
       "      <td>19.5</td>\n",
       "    </tr>\n",
       "    <tr>\n",
       "      <th>3</th>\n",
       "      <td>7.98</td>\n",
       "      <td>9.3</td>\n",
       "      <td>15.3</td>\n",
       "      <td>27.4</td>\n",
       "      <td>13.2</td>\n",
       "    </tr>\n",
       "    <tr>\n",
       "      <th>4</th>\n",
       "      <td>7.77</td>\n",
       "      <td>6.4</td>\n",
       "      <td>13.1</td>\n",
       "      <td>51.5</td>\n",
       "      <td>7.2</td>\n",
       "    </tr>\n",
       "  </tbody>\n",
       "</table>\n",
       "</div>"
      ],
      "text/plain": [
       "     ph    탁도   염소량  약품농도   부식도\n",
       "0  7.93  11.9  19.0  59.8   2.2\n",
       "1  8.07  12.9  26.6  29.8  10.3\n",
       "2  7.85  11.0  17.0  26.3  19.5\n",
       "3  7.98   9.3  15.3  27.4  13.2\n",
       "4  7.77   6.4  13.1  51.5   7.2"
      ]
     },
     "execution_count": 87,
     "metadata": {},
     "output_type": "execute_result"
    }
   ],
   "source": [
    "#연습문제 9-1 \n",
    "data=[[7.93,11.9,19,59.8,2.2],[8.07,12.9,26.6,29.8,10.3],\n",
    "               [7.85,11,17,26.3,19.5],[7.98,9.3,15.3,27.4,13.2],[7.77,6.4,13.1,51.5,7.2],\n",
    "              [7.87,7.1,11.9,41.9,23.5],[8.07,12.9,26.6,59.6,10.3],[7.85,11,17,26.3,19.5],\n",
    "              [7.98,9.3,15.3,27.4,13.2],[7.89,7.1,13.5,44.9,8],[7.96,9.8,16.5,34.5,12.2],[7.87,9.4,15.3,32.4,11.2],\n",
    "              [7.5,13,17.6,24.9,36.2],[7.92,11.4,17.4,37.3,18.9],[7.89,7.1,13.5,44.9,8],[7.96,9.8,16.5,34.5,12.2],[7.87,9.4,15.3,32.4,11.2],\n",
    "              [7.83,11,13.8,56.9,3.2],[7.72,4,11.8,23.9,5.4],[7.67,13,24.6,53.9,19.8],[7.77,6,12.5,35.5,10.6],[7.66,4,10.1,49.3,9.1],[7.48,2,7.8,70.9,4],\n",
    "              [7.57,2,8.5,81.4,3.5],[7.71,4,9.8,92,1.7],[7.6,7,11.6,81.8,4.3],[8.21,21.4,84.7,68.1,18.7],[8.2,26.4,127.4,54.7,19.4],[8.2,31.3,38.3,76.3,17.8],\n",
    "              [7.84,13.4,24.9,72.1,2.6]]\n",
    "df=pd.DataFrame(data,columns=['ph','탁도','염소량','약품농도','부식도'])\n",
    "df.head()"
   ]
  },
  {
   "cell_type": "code",
   "execution_count": 93,
   "metadata": {},
   "outputs": [
    {
     "data": {
      "text/html": [
       "<table class=\"simpletable\">\n",
       "<caption>OLS Regression Results</caption>\n",
       "<tr>\n",
       "  <th>Dep. Variable:</th>           <td>부식도</td>       <th>  R-squared:         </th> <td>   0.632</td>\n",
       "</tr>\n",
       "<tr>\n",
       "  <th>Model:</th>                   <td>OLS</td>       <th>  Adj. R-squared:    </th> <td>   0.573</td>\n",
       "</tr>\n",
       "<tr>\n",
       "  <th>Method:</th>             <td>Least Squares</td>  <th>  F-statistic:       </th> <td>   10.71</td>\n",
       "</tr>\n",
       "<tr>\n",
       "  <th>Date:</th>             <td>Mon, 20 Apr 2020</td> <th>  Prob (F-statistic):</th> <td>3.38e-05</td>\n",
       "</tr>\n",
       "<tr>\n",
       "  <th>Time:</th>                 <td>12:34:30</td>     <th>  Log-Likelihood:    </th> <td> -88.621</td>\n",
       "</tr>\n",
       "<tr>\n",
       "  <th>No. Observations:</th>      <td>    30</td>      <th>  AIC:               </th> <td>   187.2</td>\n",
       "</tr>\n",
       "<tr>\n",
       "  <th>Df Residuals:</th>          <td>    25</td>      <th>  BIC:               </th> <td>   194.2</td>\n",
       "</tr>\n",
       "<tr>\n",
       "  <th>Df Model:</th>              <td>     4</td>      <th>                     </th>     <td> </td>   \n",
       "</tr>\n",
       "<tr>\n",
       "  <th>Covariance Type:</th>      <td>nonrobust</td>    <th>                     </th>     <td> </td>   \n",
       "</tr>\n",
       "</table>\n",
       "<table class=\"simpletable\">\n",
       "<tr>\n",
       "    <td></td>       <th>coef</th>     <th>std err</th>      <th>t</th>      <th>P>|t|</th>  <th>[0.025</th>    <th>0.975]</th>  \n",
       "</tr>\n",
       "<tr>\n",
       "  <th>const</th> <td>  210.2890</td> <td>   58.716</td> <td>    3.581</td> <td> 0.001</td> <td>   89.362</td> <td>  331.216</td>\n",
       "</tr>\n",
       "<tr>\n",
       "  <th>ph</th>    <td>  -25.2060</td> <td>    7.583</td> <td>   -3.324</td> <td> 0.003</td> <td>  -40.823</td> <td>   -9.589</td>\n",
       "</tr>\n",
       "<tr>\n",
       "  <th>탁도</th>    <td>    1.0465</td> <td>    0.261</td> <td>    4.002</td> <td> 0.000</td> <td>    0.508</td> <td>    1.585</td>\n",
       "</tr>\n",
       "<tr>\n",
       "  <th>염소량</th>   <td>    0.0433</td> <td>    0.061</td> <td>    0.714</td> <td> 0.482</td> <td>   -0.082</td> <td>    0.168</td>\n",
       "</tr>\n",
       "<tr>\n",
       "  <th>약품농도</th>  <td>   -0.2540</td> <td>    0.051</td> <td>   -5.010</td> <td> 0.000</td> <td>   -0.358</td> <td>   -0.150</td>\n",
       "</tr>\n",
       "</table>\n",
       "<table class=\"simpletable\">\n",
       "<tr>\n",
       "  <th>Omnibus:</th>       <td> 6.041</td> <th>  Durbin-Watson:     </th> <td>   1.508</td>\n",
       "</tr>\n",
       "<tr>\n",
       "  <th>Prob(Omnibus):</th> <td> 0.049</td> <th>  Jarque-Bera (JB):  </th> <td>   4.501</td>\n",
       "</tr>\n",
       "<tr>\n",
       "  <th>Skew:</th>          <td> 0.662</td> <th>  Prob(JB):          </th> <td>   0.105</td>\n",
       "</tr>\n",
       "<tr>\n",
       "  <th>Kurtosis:</th>      <td> 4.360</td> <th>  Cond. No.          </th> <td>3.77e+03</td>\n",
       "</tr>\n",
       "</table><br/><br/>Warnings:<br/>[1] Standard Errors assume that the covariance matrix of the errors is correctly specified.<br/>[2] The condition number is large, 3.77e+03. This might indicate that there are<br/>strong multicollinearity or other numerical problems."
      ],
      "text/plain": [
       "<class 'statsmodels.iolib.summary.Summary'>\n",
       "\"\"\"\n",
       "                            OLS Regression Results                            \n",
       "==============================================================================\n",
       "Dep. Variable:                    부식도   R-squared:                       0.632\n",
       "Model:                            OLS   Adj. R-squared:                  0.573\n",
       "Method:                 Least Squares   F-statistic:                     10.71\n",
       "Date:                Mon, 20 Apr 2020   Prob (F-statistic):           3.38e-05\n",
       "Time:                        12:34:30   Log-Likelihood:                -88.621\n",
       "No. Observations:                  30   AIC:                             187.2\n",
       "Df Residuals:                      25   BIC:                             194.2\n",
       "Df Model:                           4                                         \n",
       "Covariance Type:            nonrobust                                         \n",
       "==============================================================================\n",
       "                 coef    std err          t      P>|t|      [0.025      0.975]\n",
       "------------------------------------------------------------------------------\n",
       "const        210.2890     58.716      3.581      0.001      89.362     331.216\n",
       "ph           -25.2060      7.583     -3.324      0.003     -40.823      -9.589\n",
       "탁도             1.0465      0.261      4.002      0.000       0.508       1.585\n",
       "염소량            0.0433      0.061      0.714      0.482      -0.082       0.168\n",
       "약품농도          -0.2540      0.051     -5.010      0.000      -0.358      -0.150\n",
       "==============================================================================\n",
       "Omnibus:                        6.041   Durbin-Watson:                   1.508\n",
       "Prob(Omnibus):                  0.049   Jarque-Bera (JB):                4.501\n",
       "Skew:                           0.662   Prob(JB):                        0.105\n",
       "Kurtosis:                       4.360   Cond. No.                     3.77e+03\n",
       "==============================================================================\n",
       "\n",
       "Warnings:\n",
       "[1] Standard Errors assume that the covariance matrix of the errors is correctly specified.\n",
       "[2] The condition number is large, 3.77e+03. This might indicate that there are\n",
       "strong multicollinearity or other numerical problems.\n",
       "\"\"\""
      ]
     },
     "execution_count": 93,
     "metadata": {},
     "output_type": "execute_result"
    }
   ],
   "source": [
    "#위의 다중 회귀 모형을 추정하여라 \n",
    "#부식도가 우리의 target이다\n",
    "x=df.iloc[:,:4]\n",
    "x_data=sm.add_constant(x,has_constant=\"add\")\n",
    "model=sm.OLS(df['부식도'],x_data)\n",
    "fitted_model=model.fit()\n",
    "fitted_model.summary()"
   ]
  }
 ],
 "metadata": {
  "kernelspec": {
   "display_name": "Python 3",
   "language": "python",
   "name": "python3"
  },
  "language_info": {
   "codemirror_mode": {
    "name": "ipython",
    "version": 3
   },
   "file_extension": ".py",
   "mimetype": "text/x-python",
   "name": "python",
   "nbconvert_exporter": "python",
   "pygments_lexer": "ipython3",
   "version": "3.7.6"
  }
 },
 "nbformat": 4,
 "nbformat_minor": 4
}
