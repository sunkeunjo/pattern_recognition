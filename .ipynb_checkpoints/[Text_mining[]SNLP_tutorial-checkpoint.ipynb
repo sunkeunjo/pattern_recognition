{
 "cells": [
  {
   "cell_type": "markdown",
   "metadata": {},
   "source": [
    "# SNLP \n",
    "\n",
    "* python natural language analysis package. \n",
    "* it is used to converat a string containg human language text into lists of sentences andwords \n",
    "* to generate base forms of those words, their parts of speech and morphological features\n",
    "* to give a syntactic structiure dependency parse. \n",
    "\n",
    "## features\n",
    "* Native Python implementation requiring minimal efforts to set up;\n",
    "* Full neural network pipeline for robust text analytics, including tokenization, multi-word token (MWT) expansion, lemmatization, part-of-speech (POS) and morphological features tagging and dependency parsing;\n",
    "* Pretrained neural models supporting 53 (human) languages featured in 73 treebanks;\n",
    "* A stable, officially maintained Python interface to CoreNLP."
   ]
  }
 ],
 "metadata": {
  "kernelspec": {
   "display_name": "Python 3",
   "language": "python",
   "name": "python3"
  },
  "language_info": {
   "codemirror_mode": {
    "name": "ipython",
    "version": 3
   },
   "file_extension": ".py",
   "mimetype": "text/x-python",
   "name": "python",
   "nbconvert_exporter": "python",
   "pygments_lexer": "ipython3",
   "version": "3.6.10"
  }
 },
 "nbformat": 4,
 "nbformat_minor": 4
}
