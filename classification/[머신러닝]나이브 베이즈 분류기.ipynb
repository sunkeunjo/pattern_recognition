{
 "cells": [
  {
   "cell_type": "markdown",
   "metadata": {},
   "source": [
    "# 베이즈 추정(Bayesian Estimation) \n",
    "> 나이브 베이즈 분류기 모델을 이해하기 전에 알아봐야하는 개념 \n",
    "\n",
    "## 베이즈 추정이란? \n",
    "\n",
    "협력 업체로부터 납품 받은 기계의 성능을 평가한다고 가정해봅시다. 이럴 경우 납품받은 몇 개의 부품을 무작위로 뽑아 이 표본에서 얻은 정보만으로 모수(납품 받은 기계 전체)의 성능을 평가해야 합니다. 이 때 단순하게 표본에서 제공하는 정보만이 아닌 사전 정보를 함께 사용하여 모수를 추정하는 것이 보다 바람직하다고 생각하여 나온 통계적 방법이 베이즈 추정입니다. \n",
    "\n",
    "베이즈 추정은 다음과 같은 수식으로 나타낼 수 있습니다. \n",
    "$$p(\\theta|X)=\\frac{p(X,\\theta)}{p(X)}=\\frac{p(X|\\theta)p(\\theta)}{p(X)}$$\n",
    "\n",
    "## 나이브 베이즈 분류\n",
    "\n",
    "베이즈 정리에 기반한 통계적 분류 기법으로 단순한 지도 학습 중 하나 입니다. 나이브 베이즈는 빠르고, 정확하며, 믿을만한 알고리즘입니다. 정확성도 높고 대용량 데이터에 대해 속도도 빠릅니다. \n",
    "\n",
    "단 나이브 베이즈를 적용하기 위해서 feature끼리 서로 독립이라는 조건이 필요합니다. 즉, 스펨 메일 분류에서 광고성 단어의 개수와 비속어의 개수가 서로 연관이 되어 있어서는 안됩니다.\n",
    "\n",
    "## 나이브 베이즈는 어떻게 동작하는가? \n",
    "\n",
    "이는 아래의 예시를 들어서 설명하겠습니다. 날씨 정보와 축구 경기 여부에 대한 데이터가 있습니다. 날씨에 대한 정보를 기반으로 축구를 할 것인지 안 할 것인지 확률을 구하는 예제입니다."
   ]
  },
  {
   "cell_type": "code",
   "execution_count": 6,
   "metadata": {},
   "outputs": [
    {
     "data": {
      "text/html": [
       "<div>\n",
       "<style scoped>\n",
       "    .dataframe tbody tr th:only-of-type {\n",
       "        vertical-align: middle;\n",
       "    }\n",
       "\n",
       "    .dataframe tbody tr th {\n",
       "        vertical-align: top;\n",
       "    }\n",
       "\n",
       "    .dataframe thead th {\n",
       "        text-align: right;\n",
       "    }\n",
       "</style>\n",
       "<table border=\"1\" class=\"dataframe\">\n",
       "  <thead>\n",
       "    <tr style=\"text-align: right;\">\n",
       "      <th></th>\n",
       "      <th>Whether</th>\n",
       "      <th>Play</th>\n",
       "    </tr>\n",
       "  </thead>\n",
       "  <tbody>\n",
       "    <tr>\n",
       "      <th>0</th>\n",
       "      <td>Sunny</td>\n",
       "      <td>No</td>\n",
       "    </tr>\n",
       "    <tr>\n",
       "      <th>1</th>\n",
       "      <td>Sunny</td>\n",
       "      <td>No</td>\n",
       "    </tr>\n",
       "    <tr>\n",
       "      <th>2</th>\n",
       "      <td>Overcast</td>\n",
       "      <td>Yes</td>\n",
       "    </tr>\n",
       "    <tr>\n",
       "      <th>3</th>\n",
       "      <td>Rainy</td>\n",
       "      <td>Yes</td>\n",
       "    </tr>\n",
       "    <tr>\n",
       "      <th>4</th>\n",
       "      <td>Rainy</td>\n",
       "      <td>Yes</td>\n",
       "    </tr>\n",
       "    <tr>\n",
       "      <th>5</th>\n",
       "      <td>Rainy</td>\n",
       "      <td>No</td>\n",
       "    </tr>\n",
       "    <tr>\n",
       "      <th>6</th>\n",
       "      <td>Overcast</td>\n",
       "      <td>Yes</td>\n",
       "    </tr>\n",
       "    <tr>\n",
       "      <th>7</th>\n",
       "      <td>Sunny</td>\n",
       "      <td>No</td>\n",
       "    </tr>\n",
       "    <tr>\n",
       "      <th>8</th>\n",
       "      <td>Sunny</td>\n",
       "      <td>Yes</td>\n",
       "    </tr>\n",
       "    <tr>\n",
       "      <th>9</th>\n",
       "      <td>Rainy</td>\n",
       "      <td>Yes</td>\n",
       "    </tr>\n",
       "    <tr>\n",
       "      <th>10</th>\n",
       "      <td>Sunny</td>\n",
       "      <td>Yes</td>\n",
       "    </tr>\n",
       "    <tr>\n",
       "      <th>11</th>\n",
       "      <td>Overcast</td>\n",
       "      <td>Yes</td>\n",
       "    </tr>\n",
       "    <tr>\n",
       "      <th>12</th>\n",
       "      <td>Overcast</td>\n",
       "      <td>Yes</td>\n",
       "    </tr>\n",
       "    <tr>\n",
       "      <th>13</th>\n",
       "      <td>Rainy</td>\n",
       "      <td>No</td>\n",
       "    </tr>\n",
       "  </tbody>\n",
       "</table>\n",
       "</div>"
      ],
      "text/plain": [
       "     Whether Play\n",
       "0      Sunny   No\n",
       "1      Sunny   No\n",
       "2   Overcast  Yes\n",
       "3      Rainy  Yes\n",
       "4      Rainy  Yes\n",
       "5      Rainy   No\n",
       "6   Overcast  Yes\n",
       "7      Sunny   No\n",
       "8      Sunny  Yes\n",
       "9      Rainy  Yes\n",
       "10     Sunny  Yes\n",
       "11  Overcast  Yes\n",
       "12  Overcast  Yes\n",
       "13     Rainy   No"
      ]
     },
     "execution_count": 6,
     "metadata": {},
     "output_type": "execute_result"
    }
   ],
   "source": [
    "import pandas as pd \n",
    "import numpy as np \n",
    "data={\"Whether\":[\"Sunny\",\"Sunny\",\"Overcast\",\"Rainy\",\"Rainy\",\"Rainy\",\"Overcast\",\"Sunny\",\"Sunny\",\"Rainy\",\"Sunny\",\"Overcast\",\"Overcast\",\"Rainy\"],\n",
    "     \"Play\":[\"No\",\"No\",\"Yes\",\"Yes\",\"Yes\",\"No\",\"Yes\",\"No\",\"Yes\",\"Yes\",\"Yes\",\"Yes\",\"Yes\",\"No\"]}\n",
    "data=pd.DataFrame(data)\n",
    "data"
   ]
  },
  {
   "cell_type": "code",
   "execution_count": 10,
   "metadata": {},
   "outputs": [
    {
     "data": {
      "text/html": [
       "<div>\n",
       "<style scoped>\n",
       "    .dataframe tbody tr th:only-of-type {\n",
       "        vertical-align: middle;\n",
       "    }\n",
       "\n",
       "    .dataframe tbody tr th {\n",
       "        vertical-align: top;\n",
       "    }\n",
       "\n",
       "    .dataframe thead th {\n",
       "        text-align: right;\n",
       "    }\n",
       "</style>\n",
       "<table border=\"1\" class=\"dataframe\">\n",
       "  <thead>\n",
       "    <tr style=\"text-align: right;\">\n",
       "      <th>Play</th>\n",
       "      <th>No</th>\n",
       "      <th>Yes</th>\n",
       "      <th>All</th>\n",
       "    </tr>\n",
       "    <tr>\n",
       "      <th>Whether</th>\n",
       "      <th></th>\n",
       "      <th></th>\n",
       "      <th></th>\n",
       "    </tr>\n",
       "  </thead>\n",
       "  <tbody>\n",
       "    <tr>\n",
       "      <th>Overcast</th>\n",
       "      <td>0</td>\n",
       "      <td>4</td>\n",
       "      <td>4</td>\n",
       "    </tr>\n",
       "    <tr>\n",
       "      <th>Rainy</th>\n",
       "      <td>2</td>\n",
       "      <td>3</td>\n",
       "      <td>5</td>\n",
       "    </tr>\n",
       "    <tr>\n",
       "      <th>Sunny</th>\n",
       "      <td>3</td>\n",
       "      <td>2</td>\n",
       "      <td>5</td>\n",
       "    </tr>\n",
       "    <tr>\n",
       "      <th>All</th>\n",
       "      <td>5</td>\n",
       "      <td>9</td>\n",
       "      <td>14</td>\n",
       "    </tr>\n",
       "  </tbody>\n",
       "</table>\n",
       "</div>"
      ],
      "text/plain": [
       "Play      No  Yes  All\n",
       "Whether               \n",
       "Overcast   0    4    4\n",
       "Rainy      2    3    5\n",
       "Sunny      3    2    5\n",
       "All        5    9   14"
      ]
     },
     "execution_count": 10,
     "metadata": {},
     "output_type": "execute_result"
    }
   ],
   "source": [
    "# Frequency Table\n",
    "pd.crosstab(data[\"Whether\"],data[\"Play\"],margins=True)"
   ]
  },
  {
   "cell_type": "code",
   "execution_count": 14,
   "metadata": {},
   "outputs": [
    {
     "data": {
      "text/html": [
       "<div>\n",
       "<style scoped>\n",
       "    .dataframe tbody tr th:only-of-type {\n",
       "        vertical-align: middle;\n",
       "    }\n",
       "\n",
       "    .dataframe tbody tr th {\n",
       "        vertical-align: top;\n",
       "    }\n",
       "\n",
       "    .dataframe thead th {\n",
       "        text-align: right;\n",
       "    }\n",
       "</style>\n",
       "<table border=\"1\" class=\"dataframe\">\n",
       "  <thead>\n",
       "    <tr style=\"text-align: right;\">\n",
       "      <th>Play</th>\n",
       "      <th>No</th>\n",
       "      <th>Yes</th>\n",
       "      <th>All</th>\n",
       "      <th>Probability</th>\n",
       "    </tr>\n",
       "    <tr>\n",
       "      <th>Whether</th>\n",
       "      <th></th>\n",
       "      <th></th>\n",
       "      <th></th>\n",
       "      <th></th>\n",
       "    </tr>\n",
       "  </thead>\n",
       "  <tbody>\n",
       "    <tr>\n",
       "      <th>Overcast</th>\n",
       "      <td>0.000000</td>\n",
       "      <td>4.000000</td>\n",
       "      <td>4.0</td>\n",
       "      <td>0.285714</td>\n",
       "    </tr>\n",
       "    <tr>\n",
       "      <th>Rainy</th>\n",
       "      <td>2.000000</td>\n",
       "      <td>3.000000</td>\n",
       "      <td>5.0</td>\n",
       "      <td>0.357143</td>\n",
       "    </tr>\n",
       "    <tr>\n",
       "      <th>Sunny</th>\n",
       "      <td>3.000000</td>\n",
       "      <td>2.000000</td>\n",
       "      <td>5.0</td>\n",
       "      <td>0.357143</td>\n",
       "    </tr>\n",
       "    <tr>\n",
       "      <th>All</th>\n",
       "      <td>5.000000</td>\n",
       "      <td>9.000000</td>\n",
       "      <td>14.0</td>\n",
       "      <td>1.000000</td>\n",
       "    </tr>\n",
       "    <tr>\n",
       "      <th>Probability</th>\n",
       "      <td>0.357143</td>\n",
       "      <td>0.642857</td>\n",
       "      <td>1.0</td>\n",
       "      <td>0.000000</td>\n",
       "    </tr>\n",
       "  </tbody>\n",
       "</table>\n",
       "</div>"
      ],
      "text/plain": [
       "Play               No       Yes   All  Probability\n",
       "Whether                                           \n",
       "Overcast     0.000000  4.000000   4.0     0.285714\n",
       "Rainy        2.000000  3.000000   5.0     0.357143\n",
       "Sunny        3.000000  2.000000   5.0     0.357143\n",
       "All          5.000000  9.000000  14.0     1.000000\n",
       "Probability  0.357143  0.642857   1.0     0.000000"
      ]
     },
     "execution_count": 14,
     "metadata": {},
     "output_type": "execute_result"
    }
   ],
   "source": [
    "# Likeligiid Table \n",
    "ft=pd.crosstab(data[\"Whether\"],data[\"Play\"],margins=True)\n",
    "ft.loc[:,\"Probability\"]=ft[\"All\"].apply(lambda x: x/ft.loc[\"All\",\"All\"])\n",
    "ft.loc[\"Probability\",:]=ft.loc[\"All\",:].apply(lambda x: x/ft.loc[\"All\",\"All\"])\n",
    "ft.loc[\"Probability\",\"Probability\"]=0\n",
    "ft"
   ]
  },
  {
   "cell_type": "code",
   "execution_count": 17,
   "metadata": {
    "scrolled": true
   },
   "outputs": [
    {
     "data": {
      "text/html": [
       "<div>\n",
       "<style scoped>\n",
       "    .dataframe tbody tr th:only-of-type {\n",
       "        vertical-align: middle;\n",
       "    }\n",
       "\n",
       "    .dataframe tbody tr th {\n",
       "        vertical-align: top;\n",
       "    }\n",
       "\n",
       "    .dataframe thead th {\n",
       "        text-align: right;\n",
       "    }\n",
       "</style>\n",
       "<table border=\"1\" class=\"dataframe\">\n",
       "  <thead>\n",
       "    <tr style=\"text-align: right;\">\n",
       "      <th>Play</th>\n",
       "      <th>No</th>\n",
       "      <th>Yes</th>\n",
       "      <th>All</th>\n",
       "      <th>Posterior Probability for No</th>\n",
       "      <th>Posterior Probability for Yes</th>\n",
       "    </tr>\n",
       "    <tr>\n",
       "      <th>Whether</th>\n",
       "      <th></th>\n",
       "      <th></th>\n",
       "      <th></th>\n",
       "      <th></th>\n",
       "      <th></th>\n",
       "    </tr>\n",
       "  </thead>\n",
       "  <tbody>\n",
       "    <tr>\n",
       "      <th>Overcast</th>\n",
       "      <td>0</td>\n",
       "      <td>4</td>\n",
       "      <td>4</td>\n",
       "      <td>0.0</td>\n",
       "      <td>0.444444</td>\n",
       "    </tr>\n",
       "    <tr>\n",
       "      <th>Rainy</th>\n",
       "      <td>2</td>\n",
       "      <td>3</td>\n",
       "      <td>5</td>\n",
       "      <td>0.4</td>\n",
       "      <td>0.333333</td>\n",
       "    </tr>\n",
       "    <tr>\n",
       "      <th>Sunny</th>\n",
       "      <td>3</td>\n",
       "      <td>2</td>\n",
       "      <td>5</td>\n",
       "      <td>0.6</td>\n",
       "      <td>0.222222</td>\n",
       "    </tr>\n",
       "    <tr>\n",
       "      <th>All</th>\n",
       "      <td>5</td>\n",
       "      <td>9</td>\n",
       "      <td>14</td>\n",
       "      <td>1.0</td>\n",
       "      <td>1.000000</td>\n",
       "    </tr>\n",
       "  </tbody>\n",
       "</table>\n",
       "</div>"
      ],
      "text/plain": [
       "Play      No  Yes  All  Posterior Probability for No  \\\n",
       "Whether                                                \n",
       "Overcast   0    4    4                           0.0   \n",
       "Rainy      2    3    5                           0.4   \n",
       "Sunny      3    2    5                           0.6   \n",
       "All        5    9   14                           1.0   \n",
       "\n",
       "Play      Posterior Probability for Yes  \n",
       "Whether                                  \n",
       "Overcast                       0.444444  \n",
       "Rainy                          0.333333  \n",
       "Sunny                          0.222222  \n",
       "All                            1.000000  "
      ]
     },
     "execution_count": 17,
     "metadata": {},
     "output_type": "execute_result"
    }
   ],
   "source": [
    "# Posterior probability \n",
    "ft=pd.crosstab(data[\"Whether\"],data[\"Play\"],margins=True)\n",
    "ft.loc[:,\"Posterior Probability for No\"]=ft[\"No\"].apply(lambda x: x/ft.loc[\"All\",\"No\"])\n",
    "ft.loc[:,\"Posterior Probability for Yes\"]=ft[\"Yes\"].apply(lambda x: x/ft.loc[\"All\",\"Yes\"])\n",
    "ft"
   ]
  },
  {
   "cell_type": "markdown",
   "metadata": {},
   "source": [
    "## 문제 1 . 날씨가 OVERCAST일 때 경기를 할 확률은 ? \n",
    "\n",
    "사전 확률 \n",
    "$P(overcast) = \\frac{4}{14}$ ,$P(yes)=9/14$, \n",
    "사후 확률 \n",
    "$P(Overcast|Yes)=\\frac{4}{9}$ \n",
    "베이즈 공식에 대입 \n",
    "$\\frac{(\\frac{4}{9}*\\frac{9}{14})}{\\frac{4}{14}}=1$\n",
    "\n",
    "## 문제 2. 날씨가 overcast일 때 경기를 하지 않을 확률은 ? \n",
    "사전 확률 \n",
    "$P(overcast) = \\frac{4}{14}$ ,$P(no)=5/14$, \n",
    "사후 확률 \n",
    "$P(Overcast|no)=\\frac{0}{5}$ \n",
    "베이즈 공식에 대입 \n",
    "$\\frac{(\\frac{0}{5}*\\frac{5}{14})}{\\frac{4}{14}}=0$\n",
    "\n",
    "따라서 나이브 베이즈 분류기는 날씨가 overcast일때 축구를 할 것이라고 판단합니다. \n",
    "\n",
    "## Feature가 multiple일 때 나이브 베이즈 분류 "
   ]
  },
  {
   "cell_type": "code",
   "execution_count": 1,
   "metadata": {
    "scrolled": true
   },
   "outputs": [
    {
     "data": {
      "text/html": [
       "<div>\n",
       "<style scoped>\n",
       "    .dataframe tbody tr th:only-of-type {\n",
       "        vertical-align: middle;\n",
       "    }\n",
       "\n",
       "    .dataframe tbody tr th {\n",
       "        vertical-align: top;\n",
       "    }\n",
       "\n",
       "    .dataframe thead th {\n",
       "        text-align: right;\n",
       "    }\n",
       "</style>\n",
       "<table border=\"1\" class=\"dataframe\">\n",
       "  <thead>\n",
       "    <tr style=\"text-align: right;\">\n",
       "      <th></th>\n",
       "      <th>Whether</th>\n",
       "      <th>Play</th>\n",
       "      <th>Temperature</th>\n",
       "    </tr>\n",
       "  </thead>\n",
       "  <tbody>\n",
       "    <tr>\n",
       "      <th>0</th>\n",
       "      <td>Sunny</td>\n",
       "      <td>No</td>\n",
       "      <td>Hot</td>\n",
       "    </tr>\n",
       "    <tr>\n",
       "      <th>1</th>\n",
       "      <td>Sunny</td>\n",
       "      <td>No</td>\n",
       "      <td>Hot</td>\n",
       "    </tr>\n",
       "    <tr>\n",
       "      <th>2</th>\n",
       "      <td>Overcast</td>\n",
       "      <td>Yes</td>\n",
       "      <td>Hot</td>\n",
       "    </tr>\n",
       "    <tr>\n",
       "      <th>3</th>\n",
       "      <td>Rainy</td>\n",
       "      <td>Yes</td>\n",
       "      <td>Mild</td>\n",
       "    </tr>\n",
       "    <tr>\n",
       "      <th>4</th>\n",
       "      <td>Rainy</td>\n",
       "      <td>Yes</td>\n",
       "      <td>Cool</td>\n",
       "    </tr>\n",
       "    <tr>\n",
       "      <th>5</th>\n",
       "      <td>Rainy</td>\n",
       "      <td>No</td>\n",
       "      <td>Cool</td>\n",
       "    </tr>\n",
       "    <tr>\n",
       "      <th>6</th>\n",
       "      <td>Overcast</td>\n",
       "      <td>Yes</td>\n",
       "      <td>Cool</td>\n",
       "    </tr>\n",
       "    <tr>\n",
       "      <th>7</th>\n",
       "      <td>Sunny</td>\n",
       "      <td>No</td>\n",
       "      <td>Mild</td>\n",
       "    </tr>\n",
       "    <tr>\n",
       "      <th>8</th>\n",
       "      <td>Sunny</td>\n",
       "      <td>Yes</td>\n",
       "      <td>Cool</td>\n",
       "    </tr>\n",
       "    <tr>\n",
       "      <th>9</th>\n",
       "      <td>Rainy</td>\n",
       "      <td>Yes</td>\n",
       "      <td>Mild</td>\n",
       "    </tr>\n",
       "    <tr>\n",
       "      <th>10</th>\n",
       "      <td>Sunny</td>\n",
       "      <td>Yes</td>\n",
       "      <td>Mild</td>\n",
       "    </tr>\n",
       "    <tr>\n",
       "      <th>11</th>\n",
       "      <td>Overcast</td>\n",
       "      <td>Yes</td>\n",
       "      <td>Mild</td>\n",
       "    </tr>\n",
       "    <tr>\n",
       "      <th>12</th>\n",
       "      <td>Overcast</td>\n",
       "      <td>Yes</td>\n",
       "      <td>Hot</td>\n",
       "    </tr>\n",
       "    <tr>\n",
       "      <th>13</th>\n",
       "      <td>Rainy</td>\n",
       "      <td>No</td>\n",
       "      <td>Mild</td>\n",
       "    </tr>\n",
       "  </tbody>\n",
       "</table>\n",
       "</div>"
      ],
      "text/plain": [
       "     Whether Play Temperature\n",
       "0      Sunny   No         Hot\n",
       "1      Sunny   No         Hot\n",
       "2   Overcast  Yes         Hot\n",
       "3      Rainy  Yes        Mild\n",
       "4      Rainy  Yes        Cool\n",
       "5      Rainy   No        Cool\n",
       "6   Overcast  Yes        Cool\n",
       "7      Sunny   No        Mild\n",
       "8      Sunny  Yes        Cool\n",
       "9      Rainy  Yes        Mild\n",
       "10     Sunny  Yes        Mild\n",
       "11  Overcast  Yes        Mild\n",
       "12  Overcast  Yes         Hot\n",
       "13     Rainy   No        Mild"
      ]
     },
     "execution_count": 1,
     "metadata": {},
     "output_type": "execute_result"
    }
   ],
   "source": [
    "import pandas as pd \n",
    "import numpy as np \n",
    "data={\"Whether\":[\"Sunny\",\"Sunny\",\"Overcast\",\"Rainy\",\"Rainy\",\"Rainy\",\"Overcast\",\"Sunny\",\"Sunny\",\"Rainy\",\"Sunny\",\"Overcast\",\"Overcast\",\"Rainy\"],\n",
    "     \"Play\":[\"No\",\"No\",\"Yes\",\"Yes\",\"Yes\",\"No\",\"Yes\",\"No\",\"Yes\",\"Yes\",\"Yes\",\"Yes\",\"Yes\",\"No\"],\n",
    "     \"Temperature\":[\"Hot\",\"Hot\",\"Hot\",\"Mild\",\"Cool\",\"Cool\",\"Cool\",\"Mild\",\"Cool\",\"Mild\",\"Mild\",\"Mild\",\"Hot\",\"Mild\"]}\n",
    "data=pd.DataFrame(data)\n",
    "data"
   ]
  },
  {
   "cell_type": "code",
   "execution_count": 6,
   "metadata": {},
   "outputs": [
    {
     "name": "stdout",
     "output_type": "stream",
     "text": [
      "Play      No  Yes  All\n",
      "Whether               \n",
      "Overcast   0    4    4\n",
      "Rainy      2    3    5\n",
      "Sunny      3    2    5\n",
      "All        5    9   14\n",
      "\n",
      "Play         No  Yes  All\n",
      "Temperature              \n",
      "Cool          1    3    4\n",
      "Hot           2    2    4\n",
      "Mild          2    4    6\n",
      "All           5    9   14\n"
     ]
    }
   ],
   "source": [
    "print(pd.crosstab(data[\"Whether\"],data[\"Play\"],margins=True))\n",
    "print()\n",
    "print(pd.crosstab(data[\"Temperature\"],data[\"Play\"],margins=True))"
   ]
  },
  {
   "cell_type": "markdown",
   "metadata": {},
   "source": [
    "## 문제 1. 날씨가 overcast 기온이 Mild일 때 경기를 할 확률은? \n",
    "사전확률 \n",
    "$P(Yes)=\\frac{9}{14}$, $P(Overcast)=\\frac{4}{14}$, $P(Mild)=\\frac{4}{14}$\n",
    "사후확률 \n",
    "$P(Overcast|Yes)=\\frac{4}{9}$, $P(Mild|Yes)=\\frac{4}{9}$\n",
    "이 모든게 가능한 이유는 temperature, mild가 서로 independent 하기 떄문입니다 항상 주의합시다.   \n",
    "그래서 결과적으로 베이즈 공식에 대입할 경우 문제에 대한 답은 1이 되겠습니다.\n",
    "\n",
    "## 문제 2. 날씨가 overcast 기온이 Mild일 때 경기를 하지 않을 확률은? \n",
    "사전확률 \n",
    "$P(no)=\\frac{5}{14}$, $P(Overcast)=\\frac{4}{14}$, $P(Mild)=\\frac{4}{14}$\n",
    "사후확률 \n",
    "$P(Overcast|no)=\\frac{0}{5}$, $P(Mild|no)=\\frac{2}{5}$\n",
    "이 모든게 가능한 이유는 temperature, mild가 서로 independent 하기 떄문입니다 항상 주의합시다.   \n",
    "그래서 결과적으로 베이즈 공식에 대입할 경우 문제에 대한 답은 0이 되겠습니다."
   ]
  },
  {
   "cell_type": "markdown",
   "metadata": {},
   "source": [
    "## Scikit-learn을 활용한 나이브 베이즈 분류기 구축 \n",
    "\n",
    "## 날씨, 기온에 따른 축구 여부 분류 \n"
   ]
  },
  {
   "cell_type": "code",
   "execution_count": 14,
   "metadata": {},
   "outputs": [
    {
     "data": {
      "text/plain": [
       "array(['Sunny', 'Sunny', 'Overcast', 'Rainy', 'Rainy', 'Rainy',\n",
       "       'Overcast', 'Sunny', 'Sunny', 'Rainy', 'Sunny', 'Overcast',\n",
       "       'Overcast', 'Rainy'], dtype=object)"
      ]
     },
     "execution_count": 14,
     "metadata": {},
     "output_type": "execute_result"
    }
   ],
   "source": [
    "data[\"Whether\"].values"
   ]
  },
  {
   "cell_type": "markdown",
   "metadata": {},
   "source": [
    "string을 int로 바꿔주는 Feature encoding을 해줍니다."
   ]
  },
  {
   "cell_type": "code",
   "execution_count": 15,
   "metadata": {},
   "outputs": [
    {
     "name": "stdout",
     "output_type": "stream",
     "text": [
      "[2 2 0 1 1 1 0 2 2 1 2 0 0 1]\n"
     ]
    }
   ],
   "source": [
    "from sklearn.preprocessing import LabelEncoder\n",
    "\n",
    "#creating labelencoder\n",
    "le=LabelEncoder()\n",
    "weather_encoded=le.fit_transform(data[\"Whether\"].values)# weather을 whether로 저장했네여;;;\n",
    "print(weather_encoded)"
   ]
  },
  {
   "cell_type": "code",
   "execution_count": 16,
   "metadata": {},
   "outputs": [
    {
     "name": "stdout",
     "output_type": "stream",
     "text": [
      "[1 1 1 2 0 0 0 2 0 2 2 2 1 2]\n",
      "[0 0 1 1 1 0 1 0 1 1 1 1 1 0]\n"
     ]
    }
   ],
   "source": [
    "temp_encoded=le.fit_transform(data[\"Temperature\"].values)\n",
    "print(temp_encoded)\n",
    "play_encoded=le.fit_transform(data[\"Play\"].values)\n",
    "print(play_encoded)"
   ]
  },
  {
   "cell_type": "markdown",
   "metadata": {},
   "source": [
    "인코딩 된 두 피처들을 결합합니다. "
   ]
  },
  {
   "cell_type": "code",
   "execution_count": 17,
   "metadata": {},
   "outputs": [
    {
     "name": "stdout",
     "output_type": "stream",
     "text": [
      "[(2, 1), (2, 1), (0, 1), (1, 2), (1, 0), (1, 0), (0, 0), (2, 2), (2, 0), (1, 2), (2, 2), (0, 2), (0, 1), (1, 2)]\n"
     ]
    }
   ],
   "source": [
    "features=zip(weather_encoded,temp_encoded)\n",
    "features=list(features)\n",
    "print(features)"
   ]
  },
  {
   "cell_type": "markdown",
   "metadata": {},
   "source": [
    "sklearn을 활용하여 나이브 베이즈 분류기 모델을 만들겠습니다. 이를 위해 모델 생성 -> 훈련 데이터 fitting -> 성능 평가 순으로 실습해보겠습니다."
   ]
  },
  {
   "cell_type": "code",
   "execution_count": 21,
   "metadata": {},
   "outputs": [
    {
     "name": "stdout",
     "output_type": "stream",
     "text": [
      "predicted value: [1]\n"
     ]
    }
   ],
   "source": [
    "from sklearn.naive_bayes import GaussianNB\n",
    "\n",
    "model=GaussianNB()\n",
    "\n",
    "#Train the model using the training set \n",
    "model.fit(features,list(play_encoded))\n",
    "\n",
    "#Predict output \n",
    "predicted=model.predict([[0,2]])\n",
    "print(f\"predicted value: {predicted}\")"
   ]
  },
  {
   "cell_type": "markdown",
   "metadata": {},
   "source": [
    "## Label이 여러개인 나이브 베이즈 "
   ]
  },
  {
   "cell_type": "code",
   "execution_count": 23,
   "metadata": {
    "scrolled": true
   },
   "outputs": [
    {
     "name": "stdout",
     "output_type": "stream",
     "text": [
      "dict_keys(['data', 'target', 'target_names', 'DESCR', 'feature_names'])\n",
      "['class_0' 'class_1' 'class_2']\n"
     ]
    }
   ],
   "source": [
    "from sklearn.datasets import load_wine \n",
    "data=load_wine()\n",
    "print(data.keys())\n",
    "print(data[\"target_names\"])"
   ]
  },
  {
   "cell_type": "code",
   "execution_count": 31,
   "metadata": {},
   "outputs": [
    {
     "name": "stdout",
     "output_type": "stream",
     "text": [
      "   alcohol  malic_acid   ash  alcalinity_of_ash  magnesium  total_phenols  \\\n",
      "0    14.23        1.71  2.43               15.6      127.0           2.80   \n",
      "1    13.20        1.78  2.14               11.2      100.0           2.65   \n",
      "2    13.16        2.36  2.67               18.6      101.0           2.80   \n",
      "3    14.37        1.95  2.50               16.8      113.0           3.85   \n",
      "4    13.24        2.59  2.87               21.0      118.0           2.80   \n",
      "\n",
      "   flavanoids  nonflavanoid_phenols  proanthocyanins  color_intensity   hue  \\\n",
      "0        3.06                  0.28             2.29             5.64  1.04   \n",
      "1        2.76                  0.26             1.28             4.38  1.05   \n",
      "2        3.24                  0.30             2.81             5.68  1.03   \n",
      "3        3.49                  0.24             2.18             7.80  0.86   \n",
      "4        2.69                  0.39             1.82             4.32  1.04   \n",
      "\n",
      "   od280/od315_of_diluted_wines  proline  target  \n",
      "0                          3.92   1065.0       0  \n",
      "1                          3.40   1050.0       0  \n",
      "2                          3.17   1185.0       0  \n",
      "3                          3.45   1480.0       0  \n",
      "4                          2.93    735.0       0  \n",
      "(178, 14)\n"
     ]
    }
   ],
   "source": [
    "df=pd.DataFrame(data['data'],columns=data[\"feature_names\"])\n",
    "df.loc[:,\"target\"]=data[\"target\"]\n",
    "print(df.head())\n",
    "print(df.shape)"
   ]
  },
  {
   "cell_type": "markdown",
   "metadata": {},
   "source": [
    "지도학습을 위해서는 train,test데이터를 나눠줘야 합니다. 이역시 sklearn에서는 관련 함수를 제공해줍니다 ."
   ]
  },
  {
   "cell_type": "code",
   "execution_count": 33,
   "metadata": {},
   "outputs": [
    {
     "name": "stdout",
     "output_type": "stream",
     "text": [
      "124 54\n"
     ]
    }
   ],
   "source": [
    "from sklearn.model_selection import train_test_split \n",
    "X_train,X_test,y_train,y_tes=train_test_split(df.drop([\"target\"],axis=1,inplace=False),df[[\"target\"]],test_size=0.3,random_state=109)\n",
    "\n",
    "print(len(X_train),len(X_test))"
   ]
  },
  {
   "cell_type": "code",
   "execution_count": 36,
   "metadata": {},
   "outputs": [
    {
     "name": "stdout",
     "output_type": "stream",
     "text": [
      "모델의 정밀도는 90.7407% 입니다\n"
     ]
    },
    {
     "name": "stderr",
     "output_type": "stream",
     "text": [
      "C:\\Users\\sunkeun_jo\\anaconda3\\envs\\textmining\\lib\\site-packages\\sklearn\\naive_bayes.py:206: DataConversionWarning: A column-vector y was passed when a 1d array was expected. Please change the shape of y to (n_samples, ), for example using ravel().\n",
      "  y = column_or_1d(y, warn=True)\n"
     ]
    }
   ],
   "source": [
    "from sklearn.naive_bayes import GaussianNB\n",
    "\n",
    "model=GaussianNB()\n",
    "\n",
    "model.fit(X_train,y_train)\n",
    "prediction=model.predict(X_test)\n",
    "\n",
    "from sklearn.metrics import accuracy_score\n",
    "\n",
    "print(f\"모델의 정밀도는 {accuracy_score(prediction,y_tes)*100:.4f}% 입니다\")"
   ]
  },
  {
   "cell_type": "markdown",
   "metadata": {},
   "source": [
    "## 나이브 베이즈의 장단점 \n",
    "\n",
    "## 장점 \n",
    "* 간단하고, 빠르며, 정확한 모델입니다. \n",
    "* computation cost가 작습니다.\n",
    "* 큰 데이터셋에 적합합니다. \n",
    "* 연속형보다 이산형 데이터에서 성능이 좋습니다\n",
    "* Multiple class 예측을 위해서도 사용할 수 있습니다\n",
    "\n",
    "## 단점 \n",
    "* feature간 독립성이 있어야 합니다. 하지만 실제 데이터에서 모든 feature가 독립인 경우는 드뭅니다. "
   ]
  }
 ],
 "metadata": {
  "kernelspec": {
   "display_name": "Python 3",
   "language": "python",
   "name": "python3"
  },
  "language_info": {
   "codemirror_mode": {
    "name": "ipython",
    "version": 3
   },
   "file_extension": ".py",
   "mimetype": "text/x-python",
   "name": "python",
   "nbconvert_exporter": "python",
   "pygments_lexer": "ipython3",
   "version": "3.6.10"
  }
 },
 "nbformat": 4,
 "nbformat_minor": 4
}
