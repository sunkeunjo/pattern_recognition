{
 "cells": [
  {
   "cell_type": "code",
   "execution_count": 8,
   "metadata": {
    "scrolled": true
   },
   "outputs": [
    {
     "name": "stdout",
     "output_type": "stream",
     "text": [
      "Requirement already satisfied: tensorflow in c:\\users\\sunkeun_jo\\anaconda3\\envs\\textmining\\lib\\site-packages (2.1.0)\n",
      "Requirement already satisfied: grpcio>=1.8.6 in c:\\users\\sunkeun_jo\\anaconda3\\envs\\textmining\\lib\\site-packages (from tensorflow) (1.28.1)\n",
      "Requirement already satisfied: tensorflow-estimator<2.2.0,>=2.1.0rc0 in c:\\users\\sunkeun_jo\\anaconda3\\envs\\textmining\\lib\\site-packages (from tensorflow) (2.1.0)\n",
      "Requirement already satisfied: termcolor>=1.1.0 in c:\\users\\sunkeun_jo\\anaconda3\\envs\\textmining\\lib\\site-packages (from tensorflow) (1.1.0)\n",
      "Requirement already satisfied: six>=1.12.0 in c:\\users\\sunkeun_jo\\anaconda3\\envs\\textmining\\lib\\site-packages (from tensorflow) (1.14.0)\n",
      "Requirement already satisfied: opt-einsum>=2.3.2 in c:\\users\\sunkeun_jo\\anaconda3\\envs\\textmining\\lib\\site-packages (from tensorflow) (3.2.1)\n",
      "Requirement already satisfied: google-pasta>=0.1.6 in c:\\users\\sunkeun_jo\\anaconda3\\envs\\textmining\\lib\\site-packages (from tensorflow) (0.2.0)\n",
      "Requirement already satisfied: wheel>=0.26; python_version >= \"3\" in c:\\users\\sunkeun_jo\\anaconda3\\envs\\textmining\\lib\\site-packages (from tensorflow) (0.34.2)\n",
      "Requirement already satisfied: keras-preprocessing>=1.1.0 in c:\\users\\sunkeun_jo\\anaconda3\\envs\\textmining\\lib\\site-packages (from tensorflow) (1.1.0)\n",
      "Requirement already satisfied: scipy==1.4.1; python_version >= \"3\" in c:\\users\\sunkeun_jo\\anaconda3\\envs\\textmining\\lib\\site-packages (from tensorflow) (1.4.1)\n",
      "Requirement already satisfied: numpy<2.0,>=1.16.0 in c:\\users\\sunkeun_jo\\anaconda3\\envs\\textmining\\lib\\site-packages (from tensorflow) (1.18.1)\n",
      "Requirement already satisfied: wrapt>=1.11.1 in c:\\users\\sunkeun_jo\\anaconda3\\envs\\textmining\\lib\\site-packages (from tensorflow) (1.12.1)\n",
      "Requirement already satisfied: keras-applications>=1.0.8 in c:\\users\\sunkeun_jo\\anaconda3\\envs\\textmining\\lib\\site-packages (from tensorflow) (1.0.8)\n",
      "Requirement already satisfied: tensorboard<2.2.0,>=2.1.0 in c:\\users\\sunkeun_jo\\anaconda3\\envs\\textmining\\lib\\site-packages (from tensorflow) (2.1.1)\n",
      "Requirement already satisfied: protobuf>=3.8.0 in c:\\users\\sunkeun_jo\\anaconda3\\envs\\textmining\\lib\\site-packages (from tensorflow) (3.11.3)\n",
      "Requirement already satisfied: absl-py>=0.7.0 in c:\\users\\sunkeun_jo\\anaconda3\\envs\\textmining\\lib\\site-packages (from tensorflow) (0.9.0)\n",
      "Requirement already satisfied: astor>=0.6.0 in c:\\users\\sunkeun_jo\\anaconda3\\envs\\textmining\\lib\\site-packages (from tensorflow) (0.8.1)\n",
      "Requirement already satisfied: gast==0.2.2 in c:\\users\\sunkeun_jo\\anaconda3\\envs\\textmining\\lib\\site-packages (from tensorflow) (0.2.2)\n",
      "Requirement already satisfied: h5py in c:\\users\\sunkeun_jo\\anaconda3\\envs\\textmining\\lib\\site-packages (from keras-applications>=1.0.8->tensorflow) (2.10.0)\n",
      "Requirement already satisfied: setuptools>=41.0.0 in c:\\users\\sunkeun_jo\\anaconda3\\envs\\textmining\\lib\\site-packages (from tensorboard<2.2.0,>=2.1.0->tensorflow) (46.1.3.post20200330)\n",
      "Requirement already satisfied: google-auth<2,>=1.6.3 in c:\\users\\sunkeun_jo\\anaconda3\\envs\\textmining\\lib\\site-packages (from tensorboard<2.2.0,>=2.1.0->tensorflow) (1.14.1)\n",
      "Requirement already satisfied: requests<3,>=2.21.0 in c:\\users\\sunkeun_jo\\anaconda3\\envs\\textmining\\lib\\site-packages (from tensorboard<2.2.0,>=2.1.0->tensorflow) (2.23.0)\n",
      "Requirement already satisfied: werkzeug>=0.11.15 in c:\\users\\sunkeun_jo\\anaconda3\\envs\\textmining\\lib\\site-packages (from tensorboard<2.2.0,>=2.1.0->tensorflow) (1.0.1)\n",
      "Requirement already satisfied: markdown>=2.6.8 in c:\\users\\sunkeun_jo\\anaconda3\\envs\\textmining\\lib\\site-packages (from tensorboard<2.2.0,>=2.1.0->tensorflow) (3.2.1)\n",
      "Requirement already satisfied: google-auth-oauthlib<0.5,>=0.4.1 in c:\\users\\sunkeun_jo\\anaconda3\\envs\\textmining\\lib\\site-packages (from tensorboard<2.2.0,>=2.1.0->tensorflow) (0.4.1)\n",
      "Requirement already satisfied: pyasn1-modules>=0.2.1 in c:\\users\\sunkeun_jo\\anaconda3\\envs\\textmining\\lib\\site-packages (from google-auth<2,>=1.6.3->tensorboard<2.2.0,>=2.1.0->tensorflow) (0.2.8)\n",
      "Requirement already satisfied: cachetools<5.0,>=2.0.0 in c:\\users\\sunkeun_jo\\anaconda3\\envs\\textmining\\lib\\site-packages (from google-auth<2,>=1.6.3->tensorboard<2.2.0,>=2.1.0->tensorflow) (4.1.0)\n",
      "Requirement already satisfied: rsa<4.1,>=3.1.4 in c:\\users\\sunkeun_jo\\anaconda3\\envs\\textmining\\lib\\site-packages (from google-auth<2,>=1.6.3->tensorboard<2.2.0,>=2.1.0->tensorflow) (4.0)\n",
      "Requirement already satisfied: certifi>=2017.4.17 in c:\\users\\sunkeun_jo\\anaconda3\\envs\\textmining\\lib\\site-packages (from requests<3,>=2.21.0->tensorboard<2.2.0,>=2.1.0->tensorflow) (2020.4.5.1)\n",
      "Requirement already satisfied: chardet<4,>=3.0.2 in c:\\users\\sunkeun_jo\\anaconda3\\envs\\textmining\\lib\\site-packages (from requests<3,>=2.21.0->tensorboard<2.2.0,>=2.1.0->tensorflow) (3.0.4)\n",
      "Requirement already satisfied: urllib3!=1.25.0,!=1.25.1,<1.26,>=1.21.1 in c:\\users\\sunkeun_jo\\anaconda3\\envs\\textmining\\lib\\site-packages (from requests<3,>=2.21.0->tensorboard<2.2.0,>=2.1.0->tensorflow) (1.25.8)\n",
      "Requirement already satisfied: idna<3,>=2.5 in c:\\users\\sunkeun_jo\\anaconda3\\envs\\textmining\\lib\\site-packages (from requests<3,>=2.21.0->tensorboard<2.2.0,>=2.1.0->tensorflow) (2.9)\n",
      "Requirement already satisfied: requests-oauthlib>=0.7.0 in c:\\users\\sunkeun_jo\\anaconda3\\envs\\textmining\\lib\\site-packages (from google-auth-oauthlib<0.5,>=0.4.1->tensorboard<2.2.0,>=2.1.0->tensorflow) (1.3.0)\n",
      "Requirement already satisfied: pyasn1<0.5.0,>=0.4.6 in c:\\users\\sunkeun_jo\\anaconda3\\envs\\textmining\\lib\\site-packages (from pyasn1-modules>=0.2.1->google-auth<2,>=1.6.3->tensorboard<2.2.0,>=2.1.0->tensorflow) (0.4.8)\n",
      "Requirement already satisfied: oauthlib>=3.0.0 in c:\\users\\sunkeun_jo\\anaconda3\\envs\\textmining\\lib\\site-packages (from requests-oauthlib>=0.7.0->google-auth-oauthlib<0.5,>=0.4.1->tensorboard<2.2.0,>=2.1.0->tensorflow) (3.1.0)\n"
     ]
    }
   ],
   "source": [
    "#fetching tensorflow\n",
    "# !pip install tensorflow"
   ]
  },
  {
   "cell_type": "markdown",
   "metadata": {},
   "source": [
    "본 영상은 김성훈 교수님의 edwith 강의를 기반으로 작성되었습니다."
   ]
  },
  {
   "cell_type": "markdown",
   "metadata": {},
   "source": [
    "## Tensorflow\n",
    "\n",
    "* data flow graph를 통해서 숫자 연산을 할 수 있기 때문에 아주 유용한 패키지 입니다. \n",
    "\n",
    "\n",
    "## Data Flow graph? \n",
    "* graph는 노드와 노드들을 연결한 엣지로 구성되어 있습니다. \n",
    "* Data flow graph 에서 하나의 node들은 연산을 의미하며 edge는 데이터 즉 tensor라고 표현을 합니다.\n",
    "* 이러한 연산을 할 수 있게 해주는 것이 tensor flow 입니다.\n"
   ]
  },
  {
   "cell_type": "code",
   "execution_count": 1,
   "metadata": {},
   "outputs": [
    {
     "name": "stdout",
     "output_type": "stream",
     "text": [
      "2.1.0\n"
     ]
    }
   ],
   "source": [
    "import tensorflow as tf \n",
    "print(tf.__version__)"
   ]
  },
  {
   "cell_type": "markdown",
   "metadata": {},
   "source": [
    "## hello tensorflow! \n"
   ]
  },
  {
   "cell_type": "code",
   "execution_count": 5,
   "metadata": {},
   "outputs": [
    {
     "name": "stdout",
     "output_type": "stream",
     "text": [
      "tf.Tensor(b'hello, tensorflow!', shape=(), dtype=string)\n",
      "<class 'tensorflow.python.framework.ops.EagerTensor'>\n"
     ]
    }
   ],
   "source": [
    "# create a constant op\n",
    "# this is op is added as a node to the default graph\n",
    "hello=tf.constant(\"hello, tensorflow!\")\n",
    "\n",
    "\n",
    "\n",
    "# run the op and get result\n",
    "\n",
    "print(hello)\n",
    "print(type(hello))"
   ]
  },
  {
   "cell_type": "markdown",
   "metadata": {},
   "source": [
    "## Computational Graph"
   ]
  },
  {
   "cell_type": "code",
   "execution_count": 15,
   "metadata": {},
   "outputs": [
    {
     "name": "stdout",
     "output_type": "stream",
     "text": [
      "node1:  3  node2:  4\n",
      "node3:  7\n"
     ]
    }
   ],
   "source": [
    "node1 = tf.constant(3.0,tf.float32)\n",
    "node2= tf.constant(4.0)\n",
    "node3= tf.add(node1,node2)\n",
    "\n",
    "tf.print(\"node1: \",node1, \" node2: \",node2)\n",
    "tf.print(\"node3: \",node3)"
   ]
  },
  {
   "cell_type": "code",
   "execution_count": 13,
   "metadata": {
    "scrolled": true
   },
   "outputs": [
    {
     "name": "stdout",
     "output_type": "stream",
     "text": [
      "[3, 4]\n",
      "7\n"
     ]
    }
   ],
   "source": [
    "tf.print([node1,node2])\n",
    "tf.print(node3)"
   ]
  },
  {
   "cell_type": "markdown",
   "metadata": {},
   "source": [
    "# Placeholder \n",
    "\n",
    "v1에서는 자주 사용되었지만 v2부터는 사용되지 않습니다."
   ]
  },
  {
   "cell_type": "code",
   "execution_count": 20,
   "metadata": {},
   "outputs": [
    {
     "name": "stdout",
     "output_type": "stream",
     "text": [
      "[[2 1]\n",
      " [2 1]]\r\n"
     ]
    }
   ],
   "source": [
    "# 대신 이제 더하기를 실행할 때 이렇게 할 수 있습니다. \n",
    "W=tf.Variable(tf.ones(shape=(2,2)),name=\"W\")\n",
    "b=tf.Variable(tf.ones(shape=(2)),name=\"b\")\n",
    "\n",
    "@tf.function\n",
    "def forward(x):\n",
    "    return W*x+b\n",
    "out_a=forward([1,0])\n",
    "tf.print(out_a)"
   ]
  }
 ],
 "metadata": {
  "kernelspec": {
   "display_name": "Python 3",
   "language": "python",
   "name": "python3"
  },
  "language_info": {
   "codemirror_mode": {
    "name": "ipython",
    "version": 3
   },
   "file_extension": ".py",
   "mimetype": "text/x-python",
   "name": "python",
   "nbconvert_exporter": "python",
   "pygments_lexer": "ipython3",
   "version": "3.6.10"
  }
 },
 "nbformat": 4,
 "nbformat_minor": 4
}
