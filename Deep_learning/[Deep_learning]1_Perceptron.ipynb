{
 "cells": [
  {
   "cell_type": "markdown",
   "metadata": {},
   "source": [
    "# Perceptron? \n",
    "> 다수의 신호를 입력받아 하나의 신호를 출력하는 알고리즘 \n",
    "\n",
    "Perceptron을 간단하게 말하면, 인간의 신경 세포 하나를 흉내낸 것으로 기본 가정은 아래와 같습니다. \n",
    "<img src=\"perceptron_.jpg\" style=\"height:200px\"> "
   ]
  },
  {
   "cell_type": "markdown",
   "metadata": {},
   "source": [
    "## <center> 1. 자극 (Stimulus) 2. 역치 (Threshold) 3. 반응 (Response) </center>\n",
    "\n",
    "## \"특정 자극이 있다면 그 자극이 어느 역치(theta:임계값) 이상이어야만 세포가 반응한다.\""
   ]
  },
  {
   "cell_type": "markdown",
   "metadata": {},
   "source": [
    "## $$y= 0(w_1x_1+w_2x_2 \\le \\theta)$$\n",
    "## $$y= 1(w_1x_1+w_2x_2>\\theta$$\n",
    "\n",
    "입력 신호의 연결강도가 가중치(Weight)인데, 입력신호가 뉴런에 보내질 때는 각각의 고유한 가중치가 곱해집니다.<br>\n",
    "퍼셉트론은 n개의 이진수가 하나의 뉴런을 통과해서 가중치의 합이 0보다 크면 활성화되는 가장 간단한 신경망입니다. \n",
    "\n",
    "예시 문제 \n",
    "\n",
    "### 1. 위의 식을 파이썬 numpy 패키지로 구현하시오. (가정 :$\\theta$=0 ; $ x_1=0;x_2=1;w_1=0.5,w_2=0.5 $)"
   ]
  },
  {
   "cell_type": "code",
   "execution_count": 2,
   "metadata": {},
   "outputs": [],
   "source": [
    "import numpy as np \n"
   ]
  },
  {
   "cell_type": "code",
   "execution_count": 5,
   "metadata": {},
   "outputs": [
    {
     "name": "stdout",
     "output_type": "stream",
     "text": [
      "1\n"
     ]
    }
   ],
   "source": [
    "def perceptron(theta,x1,x2,w1,w2):\n",
    "    x_vec=np.array([x1,x2])\n",
    "    w_vec=np.array([w1,w2])\n",
    "\n",
    "    if np.dot(x_vec.T,w_vec)<=theta:\n",
    "        result=0\n",
    "    else: \n",
    "        result=1\n",
    "        \n",
    "    return result \n",
    "    \n",
    "print(perceptron(0,0,1,0.5,0.5))  "
   ]
  },
  {
   "cell_type": "markdown",
   "metadata": {},
   "source": [
    "## <center>Perceptron으로 단순한 논리 회로 4가지를 구현해보도록 하겠습니다.</center>\n",
    "\n",
    "## <center> 1. And 게이트 </center>\n",
    "\n",
    "<img src=\"and_gate.jpg\" style=\"height:200px\">"
   ]
  },
  {
   "cell_type": "code",
   "execution_count": 9,
   "metadata": {},
   "outputs": [
    {
     "name": "stdout",
     "output_type": "stream",
     "text": [
      "x_1 is 0, x_2 is 0, y : 0\n",
      "x_1 is 0, x_2 is 1, y : 0\n",
      "x_1 is 1, x_2 is 0, y : 0\n",
      "x_1 is 1, x_2 is 1, y : 1\n"
     ]
    }
   ],
   "source": [
    "# 아까위의 식에서 theta값을 조절해준다면 같은 결과를 얻을 수 있다. \n",
    "for xvec in [[0,0],[0,1],[1,0],[1,1]]:\n",
    "    # assume theta is 0.7\n",
    "    y=perceptron(0.7,xvec[0],xvec[1],0.5,0.5)\n",
    "    print(\"x_1 is {0}, x_2 is {1}, y : {2}\".format(xvec[0],xvec[1],y))"
   ]
  },
  {
   "cell_type": "markdown",
   "metadata": {},
   "source": [
    "## <center>2. OR 게이트 </center>\n",
    "\n",
    "<img src=\"orgate.jpg\" style=\"height:200px\">"
   ]
  },
  {
   "cell_type": "code",
   "execution_count": 10,
   "metadata": {},
   "outputs": [
    {
     "name": "stdout",
     "output_type": "stream",
     "text": [
      "x_1 is 0, x_2 is 0, y : 0\n",
      "x_1 is 0, x_2 is 1, y : 1\n",
      "x_1 is 1, x_2 is 0, y : 1\n",
      "x_1 is 1, x_2 is 1, y : 1\n"
     ]
    }
   ],
   "source": [
    "# orgate theta 0.4만으로 바꿔줘도\n",
    "for xvec in [[0,0],[0,1],[1,0],[1,1]]:\n",
    "    # assume theta is 0.4\n",
    "    y=perceptron(0.4,xvec[0],xvec[1],0.5,0.5)\n",
    "    print(\"x_1 is {0}, x_2 is {1}, y : {2}\".format(xvec[0],xvec[1],y))"
   ]
  },
  {
   "cell_type": "markdown",
   "metadata": {},
   "source": [
    "## <center>3. NAND 게이트 </center>\n",
    "\n",
    "<img src=\"nandgate.jpg\" style=\"height:200px\">"
   ]
  },
  {
   "cell_type": "code",
   "execution_count": 12,
   "metadata": {
    "scrolled": true
   },
   "outputs": [
    {
     "name": "stdout",
     "output_type": "stream",
     "text": [
      "x_1 is 0, x_2 is 0, y : 1\n",
      "x_1 is 0, x_2 is 1, y : 1\n",
      "x_1 is 1, x_2 is 0, y : 1\n",
      "x_1 is 1, x_2 is 1, y : 0\n"
     ]
    }
   ],
   "source": [
    "# orgate theta 의 값과 w의 값을 바꿔줍니다\n",
    "for xvec in [[0,0],[0,1],[1,0],[1,1]]:\n",
    "    # assume theta is 0.4\n",
    "    y=perceptron(-0.7,xvec[0],xvec[1],-0.5,-0.5)\n",
    "    print(\"x_1 is {0}, x_2 is {1}, y : {2}\".format(xvec[0],xvec[1],y))"
   ]
  },
  {
   "cell_type": "markdown",
   "metadata": {},
   "source": [
    "## <center>4. XOR 게이트 </center>\n",
    "\n",
    "<img src=\"xor.jpg\" style=\"height:200px\">"
   ]
  },
  {
   "cell_type": "code",
   "execution_count": 13,
   "metadata": {},
   "outputs": [
    {
     "name": "stdout",
     "output_type": "stream",
     "text": [
      "x_1 is 0, x_2 is 0, y : 0\n",
      "x_1 is 0, x_2 is 1, y : 1\n",
      "x_1 is 1, x_2 is 0, y : 1\n",
      "x_1 is 1, x_2 is 1, y : 0\n"
     ]
    }
   ],
   "source": [
    "for xvec in [[0,0],[0,1],[1,0],[1,1]]:\n",
    "    # nand와 xor에서 나온 것의 공통된 지점만을 뽑고 아닌 경우 0을 뽑는다 \n",
    "    y_nand=perceptron(-0.7,xvec[0],xvec[1],-0.5,-0.5)\n",
    "    xor=perceptron(0.4,xvec[0],xvec[1],0.5,0.5)\n",
    "    y=perceptron(0.7,y_nand,xor,0.5,0.5)\n",
    "    print(\"x_1 is {0}, x_2 is {1}, y : {2}\".format(xvec[0],xvec[1],y))"
   ]
  },
  {
   "cell_type": "markdown",
   "metadata": {},
   "source": [
    "위에서 보이는 것과 같이 XOR 게이트는 단층 퍼셉트론으로는 구현이 되지 않습니다. 따라서 다층 퍼셉트론으로 구현을 해야 합니다.\n",
    "\n",
    "## <center>\"단층 퍼셉트론 vs 다층 퍼셉트론\" </center>\n",
    "\n",
    "__\"단층 퍼셉트론\"이란, AND,OR,NAND 게이트와 같이 입력층에 가중치를 곱해 바로 출력되는 퍼셉트론입니다.__ \n",
    "\n",
    "이는 아래와 같이 표현할 수 있습니다.\n",
    "<img src=\"perceptron_.jpg\" style=\"height:200px\">\n",
    "\n",
    "__\"다층 퍼셉트론\"이란 퍼셉트론을 층으로 쌓은 것으로, 입력층과 출력층 사이에 은닉층이 존재하는 것입니다__ \n",
    "\n",
    "위의 예시에서는 and ,nand와 xor 퍼셉트론이 은닉층이라고 할 수 있겠습니다\n",
    "\n",
    "<img src=\"multi_percep.jpg\" style=\"height:200px\">\n"
   ]
  }
 ],
 "metadata": {
  "kernelspec": {
   "display_name": "Python 3",
   "language": "python",
   "name": "python3"
  },
  "language_info": {
   "codemirror_mode": {
    "name": "ipython",
    "version": 3
   },
   "file_extension": ".py",
   "mimetype": "text/x-python",
   "name": "python",
   "nbconvert_exporter": "python",
   "pygments_lexer": "ipython3",
   "version": "3.6.10"
  }
 },
 "nbformat": 4,
 "nbformat_minor": 4
}
