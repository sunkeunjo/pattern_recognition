{
 "cells": [
  {
   "cell_type": "markdown",
   "metadata": {},
   "source": [
    "## Human example\n",
    "\n",
    "algorithm : precise steps that describes the solution of a certain task or problem. \n",
    "\n",
    "컴퓨터는 항상 step 마다 구체적으로 자료구조에 다가가게 해줘야 합니다. (그냥 단순히 \"해!\"는 컴퓨터가 이해할 수 없습니다.) 이를 위해서 컴퓨터에게 어떤 data structure를 들어가서 어떤 행동을 해라! 라고 명령을 해줘야 합니다. 컴퓨터가 구조적으로 잘 이루어질 수 있을수록 좀 더 효율적인 처리가 가능하게 됩니다. \n",
    "\n",
    "## Human sort \n",
    "\n",
    "sort the number as ascending number. (내가 지금 보고 있는 것과 다음 것을 보면서 하나씩 비교하면서 정렬한다.)  \n",
    "\n",
    "\n",
    "## Selection sort Algorighm \n",
    "\n",
    "뭐가 가장 작은 값일까? -> select at the first position -> 그 자리에 있는 작은 값보다 큰 값을 다른 곳에 넣어둔 다음에 자리를 바꿔줍니다. -> 처음 항을 제외하고 그 다음 항에서 가장 작은 값을 그 다음 항에 넣어 줍니다. 이런식으로 끝날때까지 반복을 해줍니다. \n",
    "\n"
   ]
  },
  {
   "cell_type": "code",
   "execution_count": 24,
   "metadata": {
    "scrolled": true
   },
   "outputs": [
    {
     "name": "stdout",
     "output_type": "stream",
     "text": [
      "[3, 4, 10, 5, 7, 9]\n",
      "[3, 4, 10, 5, 7, 9]\n",
      "[3, 4, 5, 10, 7, 9]\n",
      "[3, 4, 5, 7, 10, 9]\n",
      "[3, 4, 5, 7, 9, 10]\n",
      "[3, 4, 5, 7, 9, 10]\n",
      "[1, 9, 7, 4, 3, 6, 5]\n",
      "[1, 3, 7, 4, 9, 6, 5]\n",
      "[1, 3, 4, 7, 9, 6, 5]\n",
      "[1, 3, 4, 5, 9, 6, 7]\n",
      "[1, 3, 4, 5, 6, 9, 7]\n",
      "[1, 3, 4, 5, 6, 7, 9]\n",
      "[1, 3, 4, 5, 6, 7, 9]\n"
     ]
    },
    {
     "data": {
      "text/plain": [
       "[1, 3, 4, 5, 6, 7, 9]"
      ]
     },
     "execution_count": 24,
     "metadata": {},
     "output_type": "execute_result"
    }
   ],
   "source": [
    "import copy \n",
    "l1= [10,4,3,5,7,9]\n",
    "def selection_sort_algorithm(list_):\n",
    "    for i in range(len(list_)):\n",
    "        index=0\n",
    "        smallest=list_[i]\n",
    "\n",
    "        for j in range(len(list_)):\n",
    "            if i<=j:\n",
    "                if list_[j]<=smallest:\n",
    "                    index=j\n",
    "                    smallest=list_[j]\n",
    "\n",
    "        temp=list_[i] # 기존의 i 값에 들어 있는 것이 temp로 빠지고\n",
    "        list_[i]=smallest# list_[i]에 있는 값에 smallest를 집어 넣고 \n",
    "        list_[index]=temp# list_[index]가 있던 곳에 list_[i]를 집어 넣어준다. \n",
    "        print(list_)\n",
    "                      \n",
    "    return list_\n",
    "selection_sort_algorithm(l1)\n",
    "l2=[4,9,7,1,3,6,5]\n",
    "selection_sort_algorithm(l2)"
   ]
  },
  {
   "cell_type": "markdown",
   "metadata": {},
   "source": [
    "## Linear search "
   ]
  },
  {
   "cell_type": "code",
   "execution_count": null,
   "metadata": {},
   "outputs": [],
   "source": []
  }
 ],
 "metadata": {
  "kernelspec": {
   "display_name": "Python 3",
   "language": "python",
   "name": "python3"
  },
  "language_info": {
   "codemirror_mode": {
    "name": "ipython",
    "version": 3
   },
   "file_extension": ".py",
   "mimetype": "text/x-python",
   "name": "python",
   "nbconvert_exporter": "python",
   "pygments_lexer": "ipython3",
   "version": "3.7.6"
  }
 },
 "nbformat": 4,
 "nbformat_minor": 4
}
